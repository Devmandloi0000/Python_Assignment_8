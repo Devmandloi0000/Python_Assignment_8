{
 "cells": [
  {
   "cell_type": "markdown",
   "id": "3cb13f96",
   "metadata": {},
   "source": [
    "# 8_Assignment_python"
   ]
  },
  {
   "cell_type": "markdown",
   "id": "6350b1d7",
   "metadata": {},
   "source": [
    "# QUE(1)"
   ]
  },
  {
   "cell_type": "markdown",
   "id": "1da9323a",
   "metadata": {},
   "source": [
    "1. In Python, what is the difference between a built-in function and a user-defined function? Provide an\n",
    "example of each."
   ]
  },
  {
   "cell_type": "markdown",
   "id": "b77213b4",
   "metadata": {},
   "source": [
    "Solution :- In python built-in function is defined by the python whereas user defined function is a define by the user as per there needs "
   ]
  },
  {
   "cell_type": "code",
   "execution_count": 2,
   "id": "54dbe3b4",
   "metadata": {},
   "outputs": [
    {
     "name": "stdout",
     "output_type": "stream",
     "text": [
      "<class 'list'>\n"
     ]
    },
    {
     "data": {
      "text/plain": [
       "['__add__',\n",
       " '__class__',\n",
       " '__class_getitem__',\n",
       " '__contains__',\n",
       " '__delattr__',\n",
       " '__delitem__',\n",
       " '__dir__',\n",
       " '__doc__',\n",
       " '__eq__',\n",
       " '__format__',\n",
       " '__ge__',\n",
       " '__getattribute__',\n",
       " '__getitem__',\n",
       " '__gt__',\n",
       " '__hash__',\n",
       " '__iadd__',\n",
       " '__imul__',\n",
       " '__init__',\n",
       " '__init_subclass__',\n",
       " '__iter__',\n",
       " '__le__',\n",
       " '__len__',\n",
       " '__lt__',\n",
       " '__mul__',\n",
       " '__ne__',\n",
       " '__new__',\n",
       " '__reduce__',\n",
       " '__reduce_ex__',\n",
       " '__repr__',\n",
       " '__reversed__',\n",
       " '__rmul__',\n",
       " '__setattr__',\n",
       " '__setitem__',\n",
       " '__sizeof__',\n",
       " '__str__',\n",
       " '__subclasshook__',\n",
       " 'append',\n",
       " 'clear',\n",
       " 'copy',\n",
       " 'count',\n",
       " 'extend',\n",
       " 'index',\n",
       " 'insert',\n",
       " 'pop',\n",
       " 'remove',\n",
       " 'reverse',\n",
       " 'sort']"
      ]
     },
     "execution_count": 2,
     "metadata": {},
     "output_type": "execute_result"
    }
   ],
   "source": [
    "# example for the build-in-function\n",
    "\n",
    "my_list = [1,2,3,4,5,6]\n",
    "print(type(my_list))\n",
    "dir(my_list)\n",
    "\n",
    "\n",
    "# dir() are the build in function in python "
   ]
  },
  {
   "cell_type": "code",
   "execution_count": 9,
   "id": "0fac042e",
   "metadata": {},
   "outputs": [
    {
     "name": "stdout",
     "output_type": "stream",
     "text": [
      "enter any value of x here : 5\n",
      "enter any value of y here : 4\n",
      "sum of x and y is : 9 \n"
     ]
    }
   ],
   "source": [
    "# user defined function are :- \n",
    "\n",
    "def created_function():\n",
    "    x = int(input('enter any value of x here : '))\n",
    "    y = int(input('enter any value of y here : '))\n",
    "    z = x + y\n",
    "    print(f\"sum of x and y is : {z} \")\n",
    "\n",
    "\n",
    "\n",
    "created_function()"
   ]
  },
  {
   "cell_type": "markdown",
   "id": "3b4cc88d",
   "metadata": {},
   "source": [
    "# QUE(2) "
   ]
  },
  {
   "cell_type": "markdown",
   "id": "0c60885c",
   "metadata": {},
   "source": [
    "2. How can you pass arguments to a function in Python? Explain the difference between positional\n",
    "arguments and keyword arguments."
   ]
  },
  {
   "cell_type": "code",
   "execution_count": 1,
   "id": "d727c694",
   "metadata": {},
   "outputs": [],
   "source": [
    "# in python we can pass argument according to positional based or keywords based \n",
    "# keywords argument :- in this  when we call a function by providing the keywords or define the functions \n",
    "# posional argument :- in positional argument we can not define by giving any arguments "
   ]
  },
  {
   "cell_type": "code",
   "execution_count": 14,
   "id": "9acb754a",
   "metadata": {},
   "outputs": [],
   "source": [
    "def test(name,contact_no):\n",
    "    z = name.upper()\n",
    "    return z, contact_no"
   ]
  },
  {
   "cell_type": "code",
   "execution_count": 19,
   "id": "f8a4d688",
   "metadata": {},
   "outputs": [
    {
     "data": {
      "text/plain": [
       "('RAM', 8435343811)"
      ]
     },
     "execution_count": 19,
     "metadata": {},
     "output_type": "execute_result"
    }
   ],
   "source": [
    "# positional arguments\n",
    "\n",
    "test('ram',8435343811)"
   ]
  },
  {
   "cell_type": "code",
   "execution_count": 20,
   "id": "d216be2e",
   "metadata": {},
   "outputs": [],
   "source": [
    "# keyword arguments\n",
    "\n",
    "def test1(city,country):\n",
    "    print(f'your city is {city} and country {country}')"
   ]
  },
  {
   "cell_type": "code",
   "execution_count": 21,
   "id": "ea146653",
   "metadata": {},
   "outputs": [
    {
     "name": "stdout",
     "output_type": "stream",
     "text": [
      "your city is indore and country india\n"
     ]
    }
   ],
   "source": [
    "test1(city='indore',country = 'india')"
   ]
  },
  {
   "cell_type": "code",
   "execution_count": 22,
   "id": "46de8acc",
   "metadata": {},
   "outputs": [
    {
     "name": "stdout",
     "output_type": "stream",
     "text": [
      "your city is abu dabi and country dubai\n"
     ]
    }
   ],
   "source": [
    "test1('abu dabi','dubai')"
   ]
  },
  {
   "cell_type": "markdown",
   "id": "4d3d5f23",
   "metadata": {},
   "source": [
    "# QUE(3)"
   ]
  },
  {
   "cell_type": "markdown",
   "id": "42cc6a1e",
   "metadata": {},
   "source": [
    "3. What is the purpose of the return statement in a function? Can a function have multiple return\n",
    "statements? Explain with an example."
   ]
  },
  {
   "cell_type": "markdown",
   "id": "bb11772f",
   "metadata": {},
   "source": [
    "Return function are used in the function where return gives a output of the function and datatype same as given.\n",
    "\n",
    "in user-defined functions as it enables the functions to produce outputs, pass data, allow result reusability, handle conditional returns, and control the flow of the function's execution.</p\n",
    "\n",
    "when we use return statement ,it can not execute after the return statement"
   ]
  },
  {
   "cell_type": "code",
   "execution_count": 32,
   "id": "e93dc21c",
   "metadata": {},
   "outputs": [],
   "source": [
    "def test3(fname):\n",
    "    if type(fname) == str:\n",
    "        a = fname.upper()\n",
    "        return a\n",
    "        print('this is only for checking ')\n",
    "        "
   ]
  },
  {
   "cell_type": "code",
   "execution_count": 33,
   "id": "8f8c91a3",
   "metadata": {},
   "outputs": [
    {
     "data": {
      "text/plain": [
       "'GORI'"
      ]
     },
     "execution_count": 33,
     "metadata": {},
     "output_type": "execute_result"
    }
   ],
   "source": [
    "test3('gori')"
   ]
  },
  {
   "cell_type": "code",
   "execution_count": 34,
   "id": "06dce647",
   "metadata": {},
   "outputs": [],
   "source": [
    "test3(123)"
   ]
  },
  {
   "cell_type": "code",
   "execution_count": 38,
   "id": "4b935189",
   "metadata": {},
   "outputs": [],
   "source": [
    "def test4(fname):\n",
    "    if type(fname) == str:\n",
    "        a = fname.upper()\n",
    "        print('this is only for checking ')\n",
    "        return a\n",
    "        "
   ]
  },
  {
   "cell_type": "code",
   "execution_count": 39,
   "id": "71837888",
   "metadata": {},
   "outputs": [
    {
     "name": "stdout",
     "output_type": "stream",
     "text": [
      "this is only for checking \n"
     ]
    },
    {
     "data": {
      "text/plain": [
       "'DEV'"
      ]
     },
     "execution_count": 39,
     "metadata": {},
     "output_type": "execute_result"
    }
   ],
   "source": [
    "test4('dev')"
   ]
  },
  {
   "cell_type": "code",
   "execution_count": 41,
   "id": "f1083c9b",
   "metadata": {},
   "outputs": [
    {
     "name": "stdout",
     "output_type": "stream",
     "text": [
      "this is only for checking \n"
     ]
    },
    {
     "data": {
      "text/plain": [
       "str"
      ]
     },
     "execution_count": 41,
     "metadata": {},
     "output_type": "execute_result"
    }
   ],
   "source": [
    "type(test4('ram'))"
   ]
  },
  {
   "cell_type": "markdown",
   "id": "08d52ee1",
   "metadata": {},
   "source": [
    "# QUE(4) "
   ]
  },
  {
   "cell_type": "markdown",
   "id": "9e2763b5",
   "metadata": {},
   "source": [
    "4. What are lambda functions in Python? How are they different from regular functions? Provide an\n",
    "example where a lambda function can be useful."
   ]
  },
  {
   "cell_type": "markdown",
   "id": "4cc5ed04",
   "metadata": {},
   "source": [
    "solution :- lambda function are also known as anonymous function \n",
    "    \n",
    "> lambda function takes any no of arguments but having single expression\n",
    "\n",
    "> in lambda function return statement is not used \n",
    "\n",
    "> lambda function is used for small task "
   ]
  },
  {
   "cell_type": "code",
   "execution_count": 42,
   "id": "540f703b",
   "metadata": {},
   "outputs": [],
   "source": [
    "my_list = [1,2,3,4,5,6,7,8,9]"
   ]
  },
  {
   "cell_type": "code",
   "execution_count": 48,
   "id": "a169431c",
   "metadata": {},
   "outputs": [],
   "source": [
    "# lambda function is used when we have a small task \n",
    "\n",
    "\n",
    "my_func = lambda x : [i**2 for i in x]"
   ]
  },
  {
   "cell_type": "code",
   "execution_count": 49,
   "id": "67e5122e",
   "metadata": {},
   "outputs": [
    {
     "data": {
      "text/plain": [
       "[1, 4, 9, 16, 25, 36, 49, 64, 81]"
      ]
     },
     "execution_count": 49,
     "metadata": {},
     "output_type": "execute_result"
    }
   ],
   "source": [
    "my_func(my_list)"
   ]
  },
  {
   "cell_type": "code",
   "execution_count": 50,
   "id": "036a24d1",
   "metadata": {},
   "outputs": [
    {
     "data": {
      "text/plain": [
       "[100, 400, 900, 1600, 2500]"
      ]
     },
     "execution_count": 50,
     "metadata": {},
     "output_type": "execute_result"
    }
   ],
   "source": [
    "my_func([10,20,30,40,50])"
   ]
  },
  {
   "cell_type": "markdown",
   "id": "11404966",
   "metadata": {},
   "source": [
    "# QUE(5) "
   ]
  },
  {
   "cell_type": "markdown",
   "id": "aedbf46c",
   "metadata": {},
   "source": [
    "5. How does the concept of \"scope\" apply to functions in Python? Explain the difference between local\n",
    "scope and global scope."
   ]
  },
  {
   "cell_type": "markdown",
   "id": "0e564b96",
   "metadata": {},
   "source": [
    "solution :- scope mean that the any variable which define a place which  is inside a function or outside a function is comes under scope\n",
    "\n",
    ">>> LEGB , L stand for local , E stand for enclosed , G stand for global ,B stand for build in\n",
    "\n",
    "> Local scope :- in these local variable are only applicable for inside the function only , it can not be accessed anywhere outside function\n",
    "\n",
    "\n",
    "> Global scope :- in these global variable which are not defined inside the function and having a global scope are called the global scope"
   ]
  },
  {
   "cell_type": "code",
   "execution_count": 57,
   "id": "5311bd62",
   "metadata": {},
   "outputs": [
    {
     "name": "stdout",
     "output_type": "stream",
     "text": [
      "india is my country\n",
      "india is my country\n"
     ]
    }
   ],
   "source": [
    "# Global scope which can be accessed from anywhere because variable is outside the function \n",
    "\n",
    "s = 'india is my country'\n",
    "\n",
    "def global_scope():\n",
    "    print(s)\n",
    "    \n",
    "\n",
    "global_scope()    \n",
    "print(s)"
   ]
  },
  {
   "cell_type": "code",
   "execution_count": 62,
   "id": "3ae4026c",
   "metadata": {},
   "outputs": [
    {
     "ename": "NameError",
     "evalue": "name 'a' is not defined",
     "output_type": "error",
     "traceback": [
      "\u001b[1;31m---------------------------------------------------------------------------\u001b[0m",
      "\u001b[1;31mNameError\u001b[0m                                 Traceback (most recent call last)",
      "Input \u001b[1;32mIn [62]\u001b[0m, in \u001b[0;36m<cell line: 10>\u001b[1;34m()\u001b[0m\n\u001b[0;32m      6\u001b[0m     \u001b[38;5;28;01mreturn\u001b[39;00m a\n\u001b[0;32m      9\u001b[0m local_scope()\n\u001b[1;32m---> 10\u001b[0m \u001b[38;5;28mprint\u001b[39m(\u001b[43ma\u001b[49m)\n",
      "\u001b[1;31mNameError\u001b[0m: name 'a' is not defined"
     ]
    }
   ],
   "source": [
    "# Local scope which can not be accessed , this is because variable are inside the function \n",
    "\n",
    "\n",
    "def local_scope():\n",
    "    a = 'i love python code'\n",
    "    return a\n",
    "\n",
    "\n",
    "local_scope()\n",
    "print(a) # in this we can not accessed variable a "
   ]
  },
  {
   "cell_type": "code",
   "execution_count": 63,
   "id": "1e67c949",
   "metadata": {},
   "outputs": [
    {
     "data": {
      "text/plain": [
       "'i love python code'"
      ]
     },
     "execution_count": 63,
     "metadata": {},
     "output_type": "execute_result"
    }
   ],
   "source": [
    "local_scope()"
   ]
  },
  {
   "cell_type": "markdown",
   "id": "27ba1b03",
   "metadata": {},
   "source": [
    "# QUE(6) "
   ]
  },
  {
   "cell_type": "markdown",
   "id": "287c8c95",
   "metadata": {},
   "source": [
    "6. How can you use the \"return\" statement in a Python function to return multiple values?"
   ]
  },
  {
   "cell_type": "code",
   "execution_count": 99,
   "id": "958141db",
   "metadata": {},
   "outputs": [],
   "source": [
    "a = 10\n",
    "b = 20\n",
    "c = 30\n",
    "\n",
    "def values(a,b,c):\n",
    "    return a,b,c"
   ]
  },
  {
   "cell_type": "code",
   "execution_count": 100,
   "id": "08dbd26f",
   "metadata": {},
   "outputs": [
    {
     "data": {
      "text/plain": [
       "(10, 20, 30)"
      ]
     },
     "execution_count": 100,
     "metadata": {},
     "output_type": "execute_result"
    }
   ],
   "source": [
    "values(a,b,c)"
   ]
  },
  {
   "cell_type": "markdown",
   "id": "3450bd93",
   "metadata": {},
   "source": [
    "# QUE(7)"
   ]
  },
  {
   "cell_type": "markdown",
   "id": "23db9a0a",
   "metadata": {},
   "source": [
    "7. What is the difference between the \"pass by value\" and \"pass by reference\" concepts when it\n",
    "comes to function arguments in Python?"
   ]
  },
  {
   "cell_type": "markdown",
   "id": "4aa1dfc6",
   "metadata": {},
   "source": [
    "pass by value is defined that a value is passed by arguments or value is alread exits\n",
    "\n",
    "pass by reference mean that if any operation is performed that affect the actual value"
   ]
  },
  {
   "cell_type": "code",
   "execution_count": null,
   "id": "939a286b",
   "metadata": {},
   "outputs": [],
   "source": []
  },
  {
   "cell_type": "markdown",
   "id": "ff668f8f",
   "metadata": {},
   "source": [
    "# QUE(8)"
   ]
  },
  {
   "cell_type": "markdown",
   "id": "fb02af5c",
   "metadata": {},
   "source": [
    "8. Create a function that can intake integer or decimal value and do following operations:\n",
    "    \n",
    "a. Logarithmic function (log x)\n",
    "\n",
    "b. Exponential function (exp(x))\n",
    "\n",
    "c. Power function with base 2 (2x)\n",
    "\n",
    "d. Square root"
   ]
  },
  {
   "cell_type": "code",
   "execution_count": 68,
   "id": "47fbebef",
   "metadata": {},
   "outputs": [],
   "source": [
    "import math"
   ]
  },
  {
   "cell_type": "code",
   "execution_count": 69,
   "id": "b1d1058d",
   "metadata": {},
   "outputs": [],
   "source": [
    "def Logarithmic():\n",
    "    a = int(input('enter any no here : '))  \n",
    "    logi = math.log(a)\n",
    "    print(f\"Logarithmic function of {a} log x :- {logi}\")"
   ]
  },
  {
   "cell_type": "code",
   "execution_count": 70,
   "id": "bd52a095",
   "metadata": {},
   "outputs": [
    {
     "name": "stdout",
     "output_type": "stream",
     "text": [
      "enter any no here : 5\n",
      "Logarithmic function of 5 log x :- 1.6094379124341003\n"
     ]
    }
   ],
   "source": [
    "Logarithmic()"
   ]
  },
  {
   "cell_type": "code",
   "execution_count": 71,
   "id": "91dd2d52",
   "metadata": {},
   "outputs": [],
   "source": [
    "def Exponential():\n",
    "    b = int(input('enter any no here : '))  \n",
    "    expo = math.exp(b)\n",
    "    print(f\"Exponential function of {b} exp(x) :- {expo}\")"
   ]
  },
  {
   "cell_type": "code",
   "execution_count": 72,
   "id": "6b41fff9",
   "metadata": {},
   "outputs": [
    {
     "name": "stdout",
     "output_type": "stream",
     "text": [
      "enter any no here : 5\n",
      "Exponential function of 5 exp(x) :- 148.4131591025766\n"
     ]
    }
   ],
   "source": [
    "Exponential()"
   ]
  },
  {
   "cell_type": "code",
   "execution_count": 73,
   "id": "a36af9c6",
   "metadata": {},
   "outputs": [],
   "source": [
    "def Power():\n",
    "    c = int(input('enter any no here : '))\n",
    "    d = int(input('enter any no here : '))\n",
    "    pw = math.pow(c,d)\n",
    "    print(f\"power function :- {pw}\")"
   ]
  },
  {
   "cell_type": "code",
   "execution_count": 74,
   "id": "82e3f580",
   "metadata": {},
   "outputs": [
    {
     "name": "stdout",
     "output_type": "stream",
     "text": [
      "enter any no here : 2\n",
      "enter any no here : 3\n",
      "power function :- 8.0\n"
     ]
    }
   ],
   "source": [
    "Power()"
   ]
  },
  {
   "cell_type": "code",
   "execution_count": 75,
   "id": "fbd41242",
   "metadata": {},
   "outputs": [],
   "source": [
    "def Square_root():\n",
    "    e = int(input('enter any no here : '))\n",
    "    square1 = math.sqrt(e)\n",
    "    print(f\"square root of {e} is :- {square1}\")"
   ]
  },
  {
   "cell_type": "code",
   "execution_count": 76,
   "id": "0f26ceff",
   "metadata": {},
   "outputs": [
    {
     "name": "stdout",
     "output_type": "stream",
     "text": [
      "enter any no here : 16\n",
      "square root of 16 is :- 4.0\n"
     ]
    }
   ],
   "source": [
    "Square_root()"
   ]
  },
  {
   "cell_type": "markdown",
   "id": "2fe75aa2",
   "metadata": {},
   "source": [
    "# QUE(9)"
   ]
  },
  {
   "cell_type": "markdown",
   "id": "051a7fee",
   "metadata": {},
   "source": [
    "9. Create a function that takes a full name as an argument and returns first name and last name."
   ]
  },
  {
   "cell_type": "code",
   "execution_count": 85,
   "id": "f6238b65",
   "metadata": {},
   "outputs": [],
   "source": [
    "def short_name(full_name,middle_name,last_name):\n",
    "    if type(full_name) == str and type(middle_name) == str and type(last_name) == str:\n",
    "        f = full_name[0]\n",
    "        u = f.upper()\n",
    "        t = last_name.title()\n",
    "        print(f\"{u}.{t}\")"
   ]
  },
  {
   "cell_type": "code",
   "execution_count": 86,
   "id": "44a55f66",
   "metadata": {},
   "outputs": [
    {
     "name": "stdout",
     "output_type": "stream",
     "text": [
      "D.Mandloi\n"
     ]
    }
   ],
   "source": [
    "short_name('devendra','dilip','mandloi')"
   ]
  },
  {
   "cell_type": "code",
   "execution_count": null,
   "id": "bfa21394",
   "metadata": {},
   "outputs": [],
   "source": []
  }
 ],
 "metadata": {
  "kernelspec": {
   "display_name": "Python 3 (ipykernel)",
   "language": "python",
   "name": "python3"
  },
  "language_info": {
   "codemirror_mode": {
    "name": "ipython",
    "version": 3
   },
   "file_extension": ".py",
   "mimetype": "text/x-python",
   "name": "python",
   "nbconvert_exporter": "python",
   "pygments_lexer": "ipython3",
   "version": "3.9.12"
  }
 },
 "nbformat": 4,
 "nbformat_minor": 5
}
